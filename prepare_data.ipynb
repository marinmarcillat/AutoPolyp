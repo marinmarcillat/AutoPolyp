{
 "cells": [
  {
   "cell_type": "code",
   "execution_count": 1,
   "metadata": {},
   "outputs": [],
   "source": [
    "import os\n",
    "import pandas as pd\n",
    "import configparser\n",
    "import json\n",
    "\n",
    "import utils_polyps as up\n",
    "import feature_matching as fm\n",
    "import image_utils as iu\n",
    "import training_dataset as td\n",
    "from biigle import Api"
   ]
  },
  {
   "cell_type": "markdown",
   "metadata": {},
   "source": [
    "Chemin vers fichier de configuration et nom du volume traité"
   ]
  },
  {
   "cell_type": "code",
   "execution_count": 2,
   "metadata": {},
   "outputs": [],
   "source": [
    "config_path = \"D:\\ARDECO\\config.ini\"\n",
    "volume = 'A3S3'"
   ]
  },
  {
   "cell_type": "code",
   "execution_count": 3,
   "metadata": {},
   "outputs": [
    {
     "name": "stdout",
     "output_type": "stream",
     "text": [
      "Config : \n",
      "{'email': 'marin.marcillat@ifremer.fr', 'token': '9HTXoupsKlj3YyqH5vKCKYBvG1iwzbZV', 'images_path': 'W:\\\\images\\\\ARDECO23\\\\A3_PRES_S3', 'report_path': 'D:\\\\ARDECO\\\\A3_PRES_S3\\\\118-a3-pres-s3.csv', 'output_path': 'D:\\\\ARDECO\\\\A3_PRES_S3', 'img_ref_pos': 'A3_PRES_S3-00001.jpeg', 'img_ref_polyps': '[\"A3_PRES_S3-00001.jpeg\"]', 'labels_name_ref': '[\"Madrepora\"]', 'labels_name_classification': '[\"Madrepora_extended\", \"Madrepora_retracted\", \"Madrepora_shy\"]', 'label_tree_id': '64', 'volume_id': '118'}\n"
     ]
    }
   ],
   "source": [
    "config = configparser.ConfigParser()\n",
    "config.read(config_path)\n",
    "\n",
    "print(\"Config : \")\n",
    "print(dict(config.items(volume)))\n",
    "\n",
    "api = Api(config['DEFAULT']['email'], config['DEFAULT']['token'])\n",
    "\n",
    "img_ref_polyps  = json.loads(config.get(volume,\"img_ref_polyps\"))\n",
    "labels_name_ref = json.loads(config.get(volume,\"labels_name_ref\"))\n",
    "labels_name_classification = json.loads(config.get(volume,\"labels_name_classification\"))\n",
    "labels_name_all = json.loads(config.get(volume,\"labels_name_ref\"))\n",
    "labels_name_all.extend(labels_name_classification)\n",
    "\n",
    "train_path = os.path.join(config[volume]['output_path'], 'train') \n",
    "temp_path = os.path.join(config[volume]['output_path'],'temp')\n",
    "\n",
    "for path in [train_path, temp_path]: # Create if do not exist\n",
    "    isExist = os.path.exists(path)\n",
    "    if not isExist:\n",
    "        os.makedirs(path)\n",
    "    \n",
    "output_h_matrix_path = os.path.join(config[volume]['output_path'], 'h_matrixs.txt')\n",
    "polyps_positions_path = os.path.join(config[volume]['output_path'], 'polyps_coords.csv')\n",
    "polyp_ref_path = os.path.join(config[volume]['output_path'], 'polyp_ref.csv')\n",
    "\n",
    "annotations = pd.read_csv(config[volume]['report_path'])"
   ]
  },
  {
   "cell_type": "markdown",
   "metadata": {},
   "source": [
    "## Préparation (matrices homographiques, convertir les coordonnées)"
   ]
  },
  {
   "cell_type": "markdown",
   "metadata": {},
   "source": [
    "Obtenir les matrices de transformation homographiques par rapport à l'image de référence image_ref_pos"
   ]
  },
  {
   "cell_type": "code",
   "execution_count": 4,
   "metadata": {},
   "outputs": [
    {
     "name": "stdout",
     "output_type": "stream",
     "text": [
      "Get homography matrixs...\n"
     ]
    },
    {
     "name": "stderr",
     "output_type": "stream",
     "text": [
      "100%|██████████████████████████████████████████████████████████████████████████████████████████████████████████████████████████████████████████████████████████████████████████████████████████| 20301/20301 [6:08:25<00:00,  1.09s/it]\n"
     ]
    }
   ],
   "source": [
    "print(\"Get homography matrixs...\")\n",
    "fm.get_h_matrixs(config[volume]['images_path'], config[volume]['img_ref_pos'], output_h_matrix_path)"
   ]
  },
  {
   "cell_type": "markdown",
   "metadata": {},
   "source": [
    "Avec le rapport Biigle, extraire les polypes et convertir leurs coordonnées"
   ]
  },
  {
   "cell_type": "code",
   "execution_count": 4,
   "metadata": {
    "tags": []
   },
   "outputs": [
    {
     "name": "stdout",
     "output_type": "stream",
     "text": [
      "Convert polyps coordinates...\n"
     ]
    },
    {
     "name": "stderr",
     "output_type": "stream",
     "text": [
      "100%|██████████████████████████████████████████████████████████████████████████████████████████████████████████████████████████████████████████████████████████████████████████████████████████| 16027/16027 [00:04<00:00, 3245.51it/s]\n"
     ]
    }
   ],
   "source": [
    "h_matrixs = pd.read_csv(output_h_matrix_path) # Charger les matrices homographiques déjà calculées\n",
    "\n",
    "print(\"Convert polyps coordinates...\")\n",
    "polyps_positions = up.get_polyps_coords(config[volume]['images_path'], annotations, h_matrixs, labels_name_all, config[volume]['output_path'])"
   ]
  },
  {
   "cell_type": "code",
   "execution_count": 13,
   "metadata": {},
   "outputs": [],
   "source": [
    "# Charger les positions des polypes\n",
    "polyps_positions = pd.read_csv(polyps_positions_path)"
   ]
  },
  {
   "cell_type": "code",
   "execution_count": 5,
   "metadata": {},
   "outputs": [
    {
     "data": {
      "text/html": [
       "<div>\n",
       "<style scoped>\n",
       "    .dataframe tbody tr th:only-of-type {\n",
       "        vertical-align: middle;\n",
       "    }\n",
       "\n",
       "    .dataframe tbody tr th {\n",
       "        vertical-align: top;\n",
       "    }\n",
       "\n",
       "    .dataframe thead th {\n",
       "        text-align: right;\n",
       "    }\n",
       "</style>\n",
       "<table border=\"1\" class=\"dataframe\">\n",
       "  <thead>\n",
       "    <tr style=\"text-align: right;\">\n",
       "      <th></th>\n",
       "      <th>filename</th>\n",
       "      <th>label</th>\n",
       "      <th>x</th>\n",
       "      <th>y</th>\n",
       "      <th>w</th>\n",
       "      <th>h</th>\n",
       "    </tr>\n",
       "  </thead>\n",
       "  <tbody>\n",
       "    <tr>\n",
       "      <th>0</th>\n",
       "      <td>A3_PRES_S3-00001.jpeg</td>\n",
       "      <td>Madrepora</td>\n",
       "      <td>1003</td>\n",
       "      <td>4</td>\n",
       "      <td>116</td>\n",
       "      <td>60</td>\n",
       "    </tr>\n",
       "    <tr>\n",
       "      <th>1</th>\n",
       "      <td>A3_PRES_S3-00001.jpeg</td>\n",
       "      <td>Madrepora</td>\n",
       "      <td>609</td>\n",
       "      <td>226</td>\n",
       "      <td>89</td>\n",
       "      <td>81</td>\n",
       "    </tr>\n",
       "    <tr>\n",
       "      <th>2</th>\n",
       "      <td>A3_PRES_S3-00001.jpeg</td>\n",
       "      <td>Madrepora</td>\n",
       "      <td>1303</td>\n",
       "      <td>837</td>\n",
       "      <td>77</td>\n",
       "      <td>88</td>\n",
       "    </tr>\n",
       "    <tr>\n",
       "      <th>3</th>\n",
       "      <td>A3_PRES_S3-00001.jpeg</td>\n",
       "      <td>Madrepora</td>\n",
       "      <td>1014</td>\n",
       "      <td>-13</td>\n",
       "      <td>94</td>\n",
       "      <td>94</td>\n",
       "    </tr>\n",
       "    <tr>\n",
       "      <th>4</th>\n",
       "      <td>A3_PRES_S3-00001.jpeg</td>\n",
       "      <td>Madrepora</td>\n",
       "      <td>611</td>\n",
       "      <td>224</td>\n",
       "      <td>84</td>\n",
       "      <td>84</td>\n",
       "    </tr>\n",
       "  </tbody>\n",
       "</table>\n",
       "</div>"
      ],
      "text/plain": [
       "                filename      label     x    y    w   h\n",
       "0  A3_PRES_S3-00001.jpeg  Madrepora  1003    4  116  60\n",
       "1  A3_PRES_S3-00001.jpeg  Madrepora   609  226   89  81\n",
       "2  A3_PRES_S3-00001.jpeg  Madrepora  1303  837   77  88\n",
       "3  A3_PRES_S3-00001.jpeg  Madrepora  1014  -13   94  94\n",
       "4  A3_PRES_S3-00001.jpeg  Madrepora   611  224   84  84"
      ]
     },
     "metadata": {},
     "output_type": "display_data"
    }
   ],
   "source": [
    "display(polyps_positions.head())  # Show some polyps"
   ]
  },
  {
   "cell_type": "markdown",
   "metadata": {
    "tags": []
   },
   "source": [
    "## Obtenir les anotations de référence"
   ]
  },
  {
   "cell_type": "markdown",
   "metadata": {},
   "source": [
    "Maintenant, on extrait les coordonnées des polypes de référence de une ou plusieurs images. Eventuellement, affiner les bounding box en utilisant les autres annotations"
   ]
  },
  {
   "cell_type": "code",
   "execution_count": 6,
   "metadata": {},
   "outputs": [
    {
     "name": "stdout",
     "output_type": "stream",
     "text": [
      "Get reference polyps...\n"
     ]
    },
    {
     "name": "stderr",
     "output_type": "stream",
     "text": [
      "20it [00:00, ?it/s]\n"
     ]
    }
   ],
   "source": [
    "print(\"Get reference polyps...\")\n",
    "polyp_ref = up.get_ref_polyps(polyps_positions, img_ref_polyps, labels_name_ref, config[volume]['output_path'])"
   ]
  },
  {
   "cell_type": "code",
   "execution_count": 6,
   "metadata": {},
   "outputs": [],
   "source": [
    "polyp_ref = pd.read_csv(polyp_ref_path)"
   ]
  },
  {
   "cell_type": "code",
   "execution_count": 7,
   "metadata": {
    "scrolled": true,
    "tags": []
   },
   "outputs": [
    {
     "data": {
      "text/html": [
       "<div>\n",
       "<style scoped>\n",
       "    .dataframe tbody tr th:only-of-type {\n",
       "        vertical-align: middle;\n",
       "    }\n",
       "\n",
       "    .dataframe tbody tr th {\n",
       "        vertical-align: top;\n",
       "    }\n",
       "\n",
       "    .dataframe thead th {\n",
       "        text-align: right;\n",
       "    }\n",
       "</style>\n",
       "<table border=\"1\" class=\"dataframe\">\n",
       "  <thead>\n",
       "    <tr style=\"text-align: right;\">\n",
       "      <th></th>\n",
       "      <th>x</th>\n",
       "      <th>y</th>\n",
       "      <th>w</th>\n",
       "      <th>h</th>\n",
       "    </tr>\n",
       "  </thead>\n",
       "  <tbody>\n",
       "    <tr>\n",
       "      <th>0</th>\n",
       "      <td>936.0</td>\n",
       "      <td>488.0</td>\n",
       "      <td>108.0</td>\n",
       "      <td>108.0</td>\n",
       "    </tr>\n",
       "    <tr>\n",
       "      <th>1</th>\n",
       "      <td>1100.0</td>\n",
       "      <td>323.0</td>\n",
       "      <td>84.0</td>\n",
       "      <td>84.0</td>\n",
       "    </tr>\n",
       "    <tr>\n",
       "      <th>2</th>\n",
       "      <td>989.0</td>\n",
       "      <td>157.0</td>\n",
       "      <td>62.0</td>\n",
       "      <td>62.0</td>\n",
       "    </tr>\n",
       "    <tr>\n",
       "      <th>3</th>\n",
       "      <td>951.0</td>\n",
       "      <td>208.0</td>\n",
       "      <td>96.0</td>\n",
       "      <td>96.0</td>\n",
       "    </tr>\n",
       "    <tr>\n",
       "      <th>4</th>\n",
       "      <td>1065.0</td>\n",
       "      <td>205.0</td>\n",
       "      <td>74.0</td>\n",
       "      <td>74.0</td>\n",
       "    </tr>\n",
       "    <tr>\n",
       "      <th>5</th>\n",
       "      <td>1145.0</td>\n",
       "      <td>161.0</td>\n",
       "      <td>70.0</td>\n",
       "      <td>70.0</td>\n",
       "    </tr>\n",
       "    <tr>\n",
       "      <th>6</th>\n",
       "      <td>1302.0</td>\n",
       "      <td>270.0</td>\n",
       "      <td>56.0</td>\n",
       "      <td>56.0</td>\n",
       "    </tr>\n",
       "    <tr>\n",
       "      <th>7</th>\n",
       "      <td>1315.0</td>\n",
       "      <td>326.0</td>\n",
       "      <td>52.0</td>\n",
       "      <td>52.0</td>\n",
       "    </tr>\n",
       "    <tr>\n",
       "      <th>8</th>\n",
       "      <td>1219.0</td>\n",
       "      <td>429.0</td>\n",
       "      <td>70.0</td>\n",
       "      <td>70.0</td>\n",
       "    </tr>\n",
       "    <tr>\n",
       "      <th>9</th>\n",
       "      <td>1056.0</td>\n",
       "      <td>484.0</td>\n",
       "      <td>72.0</td>\n",
       "      <td>72.0</td>\n",
       "    </tr>\n",
       "    <tr>\n",
       "      <th>10</th>\n",
       "      <td>1033.0</td>\n",
       "      <td>659.0</td>\n",
       "      <td>70.0</td>\n",
       "      <td>70.0</td>\n",
       "    </tr>\n",
       "    <tr>\n",
       "      <th>11</th>\n",
       "      <td>1169.0</td>\n",
       "      <td>545.0</td>\n",
       "      <td>84.0</td>\n",
       "      <td>84.0</td>\n",
       "    </tr>\n",
       "    <tr>\n",
       "      <th>12</th>\n",
       "      <td>1322.0</td>\n",
       "      <td>487.0</td>\n",
       "      <td>76.0</td>\n",
       "      <td>76.0</td>\n",
       "    </tr>\n",
       "    <tr>\n",
       "      <th>13</th>\n",
       "      <td>1364.0</td>\n",
       "      <td>580.0</td>\n",
       "      <td>56.0</td>\n",
       "      <td>56.0</td>\n",
       "    </tr>\n",
       "    <tr>\n",
       "      <th>14</th>\n",
       "      <td>1453.0</td>\n",
       "      <td>467.0</td>\n",
       "      <td>76.0</td>\n",
       "      <td>76.0</td>\n",
       "    </tr>\n",
       "    <tr>\n",
       "      <th>15</th>\n",
       "      <td>1417.0</td>\n",
       "      <td>592.0</td>\n",
       "      <td>54.0</td>\n",
       "      <td>54.0</td>\n",
       "    </tr>\n",
       "    <tr>\n",
       "      <th>16</th>\n",
       "      <td>1315.0</td>\n",
       "      <td>631.0</td>\n",
       "      <td>106.0</td>\n",
       "      <td>106.0</td>\n",
       "    </tr>\n",
       "    <tr>\n",
       "      <th>17</th>\n",
       "      <td>1164.0</td>\n",
       "      <td>674.0</td>\n",
       "      <td>70.0</td>\n",
       "      <td>70.0</td>\n",
       "    </tr>\n",
       "    <tr>\n",
       "      <th>18</th>\n",
       "      <td>947.0</td>\n",
       "      <td>64.0</td>\n",
       "      <td>86.0</td>\n",
       "      <td>86.0</td>\n",
       "    </tr>\n",
       "    <tr>\n",
       "      <th>19</th>\n",
       "      <td>876.0</td>\n",
       "      <td>-12.0</td>\n",
       "      <td>74.0</td>\n",
       "      <td>74.0</td>\n",
       "    </tr>\n",
       "  </tbody>\n",
       "</table>\n",
       "</div>"
      ],
      "text/plain": [
       "         x      y      w      h\n",
       "0    936.0  488.0  108.0  108.0\n",
       "1   1100.0  323.0   84.0   84.0\n",
       "2    989.0  157.0   62.0   62.0\n",
       "3    951.0  208.0   96.0   96.0\n",
       "4   1065.0  205.0   74.0   74.0\n",
       "5   1145.0  161.0   70.0   70.0\n",
       "6   1302.0  270.0   56.0   56.0\n",
       "7   1315.0  326.0   52.0   52.0\n",
       "8   1219.0  429.0   70.0   70.0\n",
       "9   1056.0  484.0   72.0   72.0\n",
       "10  1033.0  659.0   70.0   70.0\n",
       "11  1169.0  545.0   84.0   84.0\n",
       "12  1322.0  487.0   76.0   76.0\n",
       "13  1364.0  580.0   56.0   56.0\n",
       "14  1453.0  467.0   76.0   76.0\n",
       "15  1417.0  592.0   54.0   54.0\n",
       "16  1315.0  631.0  106.0  106.0\n",
       "17  1164.0  674.0   70.0   70.0\n",
       "18   947.0   64.0   86.0   86.0\n",
       "19   876.0  -12.0   74.0   74.0"
      ]
     },
     "metadata": {},
     "output_type": "display_data"
    }
   ],
   "source": [
    "display(polyp_ref.head(20))"
   ]
  },
  {
   "cell_type": "markdown",
   "metadata": {},
   "source": [
    "Plotter les polypes de référence pour vérification"
   ]
  },
  {
   "cell_type": "code",
   "execution_count": 8,
   "metadata": {},
   "outputs": [
    {
     "data": {
      "image/png": "[encoded data removed]",
      "text/plain": [
       "<Figure size 640x480 with 1 Axes>"
      ]
     },
     "metadata": {},
     "output_type": "display_data"
    }
   ],
   "source": [
    "import matplotlib.pyplot as plt\n",
    "from matplotlib.patches import Rectangle\n",
    "\n",
    "fig, ax = plt.subplots()\n",
    "ax.axis([-200, 1920 +200, -200, 1080+200])\n",
    "ax.invert_yaxis()\n",
    "\n",
    "for index, row in polyp_ref.iterrows():\n",
    "    x, y, w, h = row['x'], row['y'], row['w'], row['h']\n",
    "    if row['w'] < 0:\n",
    "        ax.add_patch(Rectangle((x, y), w, h,\n",
    "                       edgecolor='blue',\n",
    "                       facecolor='none',\n",
    "                       lw=2))\n",
    "    else:\n",
    "        ax.add_patch(Rectangle((x, y), w, h,\n",
    "                               edgecolor='orange',\n",
    "                               facecolor='none',\n",
    "                               lw=2))\n",
    "plt.show()"
   ]
  },
  {
   "cell_type": "markdown",
   "metadata": {
    "tags": []
   },
   "source": [
    "## Plotter les annotations de référence sur toutes les images Biigle"
   ]
  },
  {
   "cell_type": "code",
   "execution_count": 10,
   "metadata": {},
   "outputs": [],
   "source": [
    "# Charger les polypes de référence\n",
    "polyp_ref = pd.read_csv(polyp_ref_path)"
   ]
  },
  {
   "cell_type": "markdown",
   "metadata": {},
   "source": [
    "Découper les polypes de référence dans toute les images Biigle, selon une certaine fréquence."
   ]
  },
  {
   "cell_type": "code",
   "execution_count": 14,
   "metadata": {},
   "outputs": [
    {
     "name": "stdout",
     "output_type": "stream",
     "text": [
      "Creating label index for API\n",
      "Creating image index for API\n",
      "Done !\n"
     ]
    },
    {
     "name": "stderr",
     "output_type": "stream",
     "text": [
      "100%|████████████████████████████████████████████████████████████████████████████████████████████████████████████████████████████████████████████████████████████████████████████████████████████████| 204/204 [02:25<00:00,  1.40it/s]\n"
     ]
    }
   ],
   "source": [
    "draw_frequence = 1/100\n",
    "\n",
    "up.draw_polyps_from_ref(config[volume]['images_path'], draw_frequence, h_matrixs, polyp_ref, labels_name_ref[0], temp_path, api, config[volume]['label_tree_id'], config[volume]['volume_id'])"
   ]
  },
  {
   "cell_type": "markdown",
   "metadata": {
    "tags": []
   },
   "source": [
    "## Creation d'un jeu d'entrainement"
   ]
  },
  {
   "cell_type": "markdown",
   "metadata": {},
   "source": [
    "Couper et classer les images selon les emprises des annotations."
   ]
  },
  {
   "cell_type": "code",
   "execution_count": 4,
   "metadata": {},
   "outputs": [
    {
     "name": "stdout",
     "output_type": "stream",
     "text": [
      "Cropping and classing images....\n"
     ]
    },
    {
     "name": "stderr",
     "output_type": "stream",
     "text": [
      " ... (more hidden) ...\n"
     ]
    }
   ],
   "source": [
    "print(\"Cropping and classing images....\")\n",
    "td.crop_all_images_training(config[volume]['images_path'], annotations, labels_name_classification, train_path)"
   ]
  }
 ],
 "metadata": {
  "kernelspec": {
   "display_name": "Python 3 (ipykernel)",
   "language": "python",
   "name": "python3"
  },
  "language_info": {
   "codemirror_mode": {
    "name": "ipython",
    "version": 3
   },
   "file_extension": ".py",
   "mimetype": "text/x-python",
   "name": "python",
   "nbconvert_exporter": "python",
   "pygments_lexer": "ipython3",
   "version": "3.9.16"
  }
 },
 "nbformat": 4,
 "nbformat_minor": 4
}
