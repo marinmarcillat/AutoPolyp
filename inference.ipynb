{
 "cells": [
  {
   "cell_type": "code",
   "execution_count": 1,
   "metadata": {
    "tags": []
   },
   "outputs": [],
   "source": [
    "from inference_fiftyone import fiftyone_inference\n",
    "import configparser\n",
    "import fiftyone as fo\n",
    "from fiftyone import ViewField as F"
   ]
  },
  {
   "cell_type": "code",
   "execution_count": 2,
   "metadata": {
    "collapsed": false,
    "jupyter": {
     "outputs_hidden": false
    }
   },
   "outputs": [],
   "source": [
    "config_path = \"D:\\ARDECO\\config.ini\"\n",
    "volume = 'A1S1'\n",
    "#OR\n",
    "#volume = ['A3S3', 'A2S3', 'A1S3', 'A3S2', 'A2S2', 'A1S2', 'A3S1', 'A2S1', 'A1S1']\n",
    "\n",
    "model_path = r\"\""
   ]
  },
  {
   "cell_type": "code",
   "execution_count": 3,
   "metadata": {},
   "outputs": [
    {
     "name": "stdout",
     "output_type": "stream",
     "text": [
      "Config : \n",
      "{'email': 'marin.marcillat@ifremer.fr', 'token': '9HTXoupsKlj3YyqH5vKCKYBvG1iwzbZV', 'images_path': 'W:\\\\images\\\\MARLEY_2021', 'report_path': 'D:\\\\ARDECO\\\\MARLEY\\\\78-2021.csv', 'output_path': 'D:\\\\ARDECO\\\\MARLEY', 'img_ref_pos': '20211016_060614_EF6A.jpg', 'img_ref_polyps': '[\"20210904_120349_58C2.jpg\", \"20211112_120739_F699.jpg\", \"20220105_001015_5AC4.jpg\"]', 'labels_name_ref': '[\"no_label\"]', 'labels_name_classification': '[\"Retracted\", \"Moderately extended\", \"Extended\"]', 'label_tree_id': '61', 'volume_id': '137'}\n"
     ]
    }
   ],
   "source": [
    "config = configparser.ConfigParser()\n",
    "config.read(config_path)\n",
    "\n",
    "dataset = fiftyone_inference(config, volume, model_path)"
   ]
  },
  {
   "metadata": {},
   "cell_type": "code",
   "outputs": [],
   "execution_count": null,
   "source": [
    "session = fo.launch_app(dataset)\n",
    "session.wait()"
   ]
  },
  {
   "metadata": {},
   "cell_type": "code",
   "outputs": [],
   "execution_count": null,
   "source": [
    "view = dataset.filter_labels(\"predictions\", F(\"label\") == \"lophelia_extended\")\n",
    "# Plot the number of vehicles in each frame of a video dataset\n",
    "plot = fo.lines(\n",
    "    x=\"image_id\",\n",
    "    y=F(\"predictions\").length(),\n",
    "    labels=\"id\",\n",
    "    samples=view,\n",
    "    xaxis_title=\"Image_number\",\n",
    "    yaxis_title=\"active polyps\",\n",
    ")\n",
    "plot.show()\n",
    "\n",
    "# When points are selected in the plot, load the corresponding frames in\n",
    "# frames views in the App\n",
    "plot.selection_mode = \"select\"\n",
    "\n",
    "session.plots.attach(plot)"
   ]
  }
 ],
 "metadata": {
  "kernelspec": {
   "display_name": "Python 3 (ipykernel)",
   "language": "python",
   "name": "python3"
  },
  "language_info": {
   "codemirror_mode": {
    "name": "ipython",
    "version": 3
   },
   "file_extension": ".py",
   "mimetype": "text/x-python",
   "name": "python",
   "nbconvert_exporter": "python",
   "pygments_lexer": "ipython3",
   "version": "3.11.11"
  }
 },
 "nbformat": 4,
 "nbformat_minor": 4
}
