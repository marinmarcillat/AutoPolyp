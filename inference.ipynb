{
 "cells": [
  {
   "cell_type": "code",
   "execution_count": 1,
   "metadata": {
    "tags": []
   },
   "outputs": [],
   "source": [
    "import inference\n",
    "import image_utils\n",
    "import utils_pascalVOC\n",
    "\n",
    "from biigle import Api\n",
    "import pandas as pd\n",
    "import os\n",
    "import json\n",
    "import configparser"
   ]
  },
  {
   "cell_type": "code",
   "execution_count": 2,
   "metadata": {
    "collapsed": false,
    "jupyter": {
     "outputs_hidden": false
    }
   },
   "outputs": [],
   "source": [
    "config_path = \"D:\\ARDECO\\config.ini\"\n",
    "volume = 'MARLEY'"
   ]
  },
  {
   "cell_type": "code",
   "execution_count": 3,
   "metadata": {},
   "outputs": [
    {
     "name": "stdout",
     "output_type": "stream",
     "text": [
      "Config : \n",
      "{'email': 'marin.marcillat@ifremer.fr', 'token': '9HTXoupsKlj3YyqH5vKCKYBvG1iwzbZV', 'images_path': 'W:\\\\images\\\\MARLEY_2021', 'report_path': 'D:\\\\ARDECO\\\\MARLEY\\\\78-2021.csv', 'output_path': 'D:\\\\ARDECO\\\\MARLEY', 'img_ref_pos': '20211016_060614_EF6A.jpg', 'img_ref_polyps': '[\"20210904_120349_58C2.jpg\", \"20211112_120739_F699.jpg\", \"20220105_001015_5AC4.jpg\"]', 'labels_name_ref': '[\"no_label\"]', 'labels_name_classification': '[\"Retracted\", \"Moderately extended\", \"Extended\"]', 'label_tree_id': '61', 'volume_id': '137'}\n"
     ]
    }
   ],
   "source": [
    "config = configparser.ConfigParser()\n",
    "config.read(config_path)\n",
    "\n",
    "print(\"Config : \")\n",
    "print(dict(config.items(volume)))\n",
    "\n",
    "api = Api(config['DEFAULT']['email'], config['DEFAULT']['token'])\n",
    "\n",
    "labels_name_classification = json.loads(config.get(volume,\"labels_name_classification\"))\n",
    "\n",
    "vign_path = os.path.join(config[volume]['output_path'],'vign')\n",
    "\n",
    "for path in [vign_path]: # Create if do not exist\n",
    "    isExist = os.path.exists(path)\n",
    "    if not isExist:\n",
    "        os.makedirs(path)\n",
    "\n",
    "model_path = os.path.join(config[volume]['output_path'],'models', 'model_export.pkl')\n",
    "output_h_matrix_path = os.path.join(config[volume]['output_path'], 'h_matrixs.txt')\n",
    "polyp_ref_path = os.path.join(config[volume]['output_path'], 'polyp_ref.csv')\n",
    "\n",
    "polyp_ref = pd.read_csv(polyp_ref_path)\n",
    "h_matrixs = pd.read_csv(output_h_matrix_path) # Charger les matrices homographiques déjà calculées"
   ]
  },
  {
   "cell_type": "markdown",
   "metadata": {},
   "source": [
    "Découpage de toutes les images selon les emprises des vignettes de référence"
   ]
  },
  {
   "cell_type": "code",
   "execution_count": 4,
   "metadata": {
    "collapsed": false,
    "jupyter": {
     "outputs_hidden": false
    }
   },
   "outputs": [
    {
     "name": "stderr",
     "output_type": "stream",
     "text": [
      "100%|████████████████████████████████████████████████████████████████████████████████████████████████████████████████████████████████████████████████████████████████████████████████████████████████| 537/537 [04:19<00:00,  2.07it/s]\n"
     ]
    }
   ],
   "source": [
    "image_utils.crop_all_images(config[volume]['images_path'], polyp_ref, h_matrixs, vign_path)"
   ]
  },
  {
   "cell_type": "markdown",
   "metadata": {},
   "source": [
    "Inférence et upload vers Biigle (via un fichier pascalVOC)"
   ]
  },
  {
   "cell_type": "code",
   "execution_count": null,
   "metadata": {
    "collapsed": false,
    "jupyter": {
     "outputs_hidden": false
    },
    "tags": []
   },
   "outputs": [
    {
     "name": "stdout",
     "output_type": "stream",
     "text": [
      "Doing inference...\n"
     ]
    },
    {
     "data": {
      "text/html": [
       "\n",
       "<style>\n",
       "    /* Turns off some styling */\n",
       "    progress {\n",
       "        /* gets rid of default border in Firefox and Opera. */\n",
       "        border: none;\n",
       "        /* Needs to be in here for Safari polyfill so background images work as expected. */\n",
       "        background-size: auto;\n",
       "    }\n",
       "    progress:not([value]), progress:not([value])::-webkit-progress-bar {\n",
       "        background: repeating-linear-gradient(45deg, #7e7e7e, #7e7e7e 10px, #5c5c5c 10px, #5c5c5c 20px);\n",
       "    }\n",
       "    .progress-bar-interrupted, .progress-bar-interrupted::-webkit-progress-bar {\n",
       "        background: #F44336;\n",
       "    }\n",
       "</style>\n"
      ],
      "text/plain": [
       "<IPython.core.display.HTML object>"
      ]
     },
     "metadata": {},
     "output_type": "display_data"
    },
    {
     "data": {
      "text/html": [],
      "text/plain": [
       "<IPython.core.display.HTML object>"
      ]
     },
     "metadata": {},
     "output_type": "display_data"
    },
    {
     "name": "stdout",
     "output_type": "stream",
     "text": [
      "Exporting to Biigle...\n"
     ]
    },
    {
     "name": "stderr",
     "output_type": "stream",
     "text": [
      "  6%|██████████▊                                                                                                                                                                                      | 30/536 [02:49<50:07,  5.94s/it]"
     ]
    }
   ],
   "source": [
    "inference.model_inference(model_path, vign_path, config[volume]['output_path'], api, config[volume]['label_tree_id'], config[volume]['volume_id'])"
   ]
  },
  {
   "cell_type": "markdown",
   "metadata": {
    "jp-MarkdownHeadingCollapsed": true,
    "tags": []
   },
   "source": [
    "\n",
    "### Deprecated\n"
   ]
  },
  {
   "cell_type": "markdown",
   "metadata": {},
   "source": [
    "Google Colab\n",
    "\n",
    "https://colab.research.google.com/drive/1ErLYhJf_Dub6p10ywYy9Vp7xIOe83_iC?usp=sharing\n",
    "\n",
    "The first training file used can be found here:\n",
    "\n",
    "https://drive.google.com/drive/folders/1qWZWIqgN7PhR0L8jywJhz8KSLoD2cYe_?usp=sharing"
   ]
  }
 ],
 "metadata": {
  "kernelspec": {
   "display_name": "Python 3 (ipykernel)",
   "language": "python",
   "name": "python3"
  },
  "language_info": {
   "codemirror_mode": {
    "name": "ipython",
    "version": 3
   },
   "file_extension": ".py",
   "mimetype": "text/x-python",
   "name": "python",
   "nbconvert_exporter": "python",
   "pygments_lexer": "ipython3",
   "version": "3.9.16"
  }
 },
 "nbformat": 4,
 "nbformat_minor": 4
}
